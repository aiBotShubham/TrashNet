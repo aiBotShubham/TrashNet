{
 "cells": [
  {
   "cell_type": "code",
   "execution_count": 16,
   "metadata": {},
   "outputs": [],
   "source": [
    "import numpy as np\n",
    "import cv2\n",
    "import os\n",
    "import sqlite3"
   ]
  },
  {
   "cell_type": "code",
   "execution_count": 17,
   "metadata": {},
   "outputs": [],
   "source": [
    "# Addding a new class\n",
    "def make_class(name):\n",
    "    path = \"./classes/{}\".format(name)\n",
    "    try:\n",
    "        os.mkdir(path)\n",
    "    except OSError:\n",
    "        print (\"Creation of the class %s failed\" % name)\n",
    "    else:\n",
    "        print (\"Successfully created the Class %s\" % name)\n",
    "        "
   ]
  },
  {
   "cell_type": "code",
   "execution_count": 82,
   "metadata": {},
   "outputs": [
    {
     "ename": "OperationalError",
     "evalue": "table CLASSES already exists",
     "output_type": "error",
     "traceback": [
      "\u001b[1;31m---------------------------------------------------------------------------\u001b[0m",
      "\u001b[1;31mOperationalError\u001b[0m                          Traceback (most recent call last)",
      "\u001b[1;32m<ipython-input-82-81a6db15f5a7>\u001b[0m in \u001b[0;36m<module>\u001b[1;34m\u001b[0m\n\u001b[0;32m      3\u001b[0m databse.execute('''CREATE TABLE CLASSES\n\u001b[0;32m      4\u001b[0m          (CLASS_NAME           TEXT    NOT NULL,\n\u001b[1;32m----> 5\u001b[1;33m          NO_OF_OBJECTS            INT     NOT NULL);''')\n\u001b[0m",
      "\u001b[1;31mOperationalError\u001b[0m: table CLASSES already exists"
     ]
    }
   ],
   "source": [
    "# setting up SQL lite\n",
    "databse = sqlite3.connect(\"class_data.db\")\n",
    "databse.execute('''CREATE TABLE CLASSES\n",
    "         (CLASS_NAME           TEXT    NOT NULL,\n",
    "         NO_OF_OBJECTS            INT     NOT NULL);''')"
   ]
  },
  {
   "cell_type": "code",
   "execution_count": 80,
   "metadata": {},
   "outputs": [
    {
     "ename": "IntegrityError",
     "evalue": "NOT NULL constraint failed: CLASSES.ID",
     "output_type": "error",
     "traceback": [
      "\u001b[1;31m---------------------------------------------------------------------------\u001b[0m",
      "\u001b[1;31mIntegrityError\u001b[0m                            Traceback (most recent call last)",
      "\u001b[1;32m<ipython-input-80-34a837797b54>\u001b[0m in \u001b[0;36m<module>\u001b[1;34m\u001b[0m\n\u001b[0;32m      1\u001b[0m databse.execute(\"INSERT INTO CLASSES (CLASS_NAME,NO_OF_OBJECTS) \\\n\u001b[1;32m----> 2\u001b[1;33m       VALUES ('Plastic', 10)\");\n\u001b[0m",
      "\u001b[1;31mIntegrityError\u001b[0m: NOT NULL constraint failed: CLASSES.ID"
     ]
    }
   ],
   "source": [
    "databse.execute(\"INSERT INTO CLASSES (CLASS_NAME,NO_OF_OBJECTS) \\\n",
    "      VALUES ('Plastic', 10)\");"
   ]
  },
  {
   "cell_type": "code",
   "execution_count": 64,
   "metadata": {},
   "outputs": [],
   "source": [
    "databse.commit()"
   ]
  },
  {
   "cell_type": "code",
   "execution_count": 67,
   "metadata": {},
   "outputs": [],
   "source": [
    "cursor = databse.execute(\"SELECT NO_OF_OBJECTS FROM CLASSES WHERE ID = 1\")"
   ]
  },
  {
   "cell_type": "code",
   "execution_count": null,
   "metadata": {},
   "outputs": [],
   "source": [
    "databse.execute(\"UPDATE CLASSES set NO_OF_OBJECTS = ? where ID = ?\",(objs,_id))"
   ]
  },
  {
   "cell_type": "code",
   "execution_count": 69,
   "metadata": {},
   "outputs": [],
   "source": [
    "for row in cursor:\n",
    "    print(row[0])"
   ]
  },
  {
   "cell_type": "code",
   "execution_count": 73,
   "metadata": {},
   "outputs": [
    {
     "data": {
      "text/plain": [
       "<sqlite3.Cursor at 0x1c6f1f3f880>"
      ]
     },
     "execution_count": 73,
     "metadata": {},
     "output_type": "execute_result"
    }
   ],
   "source": [
    "cursor = databse.execute(\"SELECT NO_OF_OBJECTS FROM CLASSES WHERE ID = 1\")\n",
    "for row in cursor:\n",
    "    objs = row[0]\n",
    "objs =+ 1\n",
    "databse.execute(\"UPDATE CLASSES set NO_OF_OBJECTS = ? where ID = ?\",(objs,1))    "
   ]
  },
  {
   "cell_type": "code",
   "execution_count": 77,
   "metadata": {},
   "outputs": [
    {
     "name": "stdout",
     "output_type": "stream",
     "text": [
      "1\n"
     ]
    }
   ],
   "source": [
    "cursor = databse.execute(\"SELECT NO_OF_OBJECTS FROM CLASSES WHERE ID = 1\")\n",
    "for row in cursor:\n",
    "    print(row[0])"
   ]
  },
  {
   "cell_type": "code",
   "execution_count": 75,
   "metadata": {},
   "outputs": [],
   "source": [
    "databse.commit()"
   ]
  },
  {
   "cell_type": "code",
   "execution_count": 79,
   "metadata": {},
   "outputs": [
    {
     "name": "stdout",
     "output_type": "stream",
     "text": [
      "(1, 'Plastic', 1)\n",
      "(2, 'Plastic', 10)\n"
     ]
    }
   ],
   "source": [
    "def sql_fetch(con):\n",
    " \n",
    "    cursorObj = con.cursor()\n",
    " \n",
    "    cursorObj.execute('SELECT * FROM CLASSES')\n",
    " \n",
    "    rows = cursorObj.fetchall()\n",
    " \n",
    "    for row in rows:\n",
    " \n",
    "        print(row)\n",
    " \n",
    "sql_fetch(databse)"
   ]
  },
  {
   "cell_type": "code",
   "execution_count": 81,
   "metadata": {},
   "outputs": [
    {
     "ename": "OperationalError",
     "evalue": "database table is locked",
     "output_type": "error",
     "traceback": [
      "\u001b[1;31m---------------------------------------------------------------------------\u001b[0m",
      "\u001b[1;31mOperationalError\u001b[0m                          Traceback (most recent call last)",
      "\u001b[1;32m<ipython-input-81-be8102edd414>\u001b[0m in \u001b[0;36m<module>\u001b[1;34m\u001b[0m\n\u001b[1;32m----> 1\u001b[1;33m \u001b[0mdatabse\u001b[0m\u001b[1;33m.\u001b[0m\u001b[0mexecute\u001b[0m\u001b[1;33m(\u001b[0m\u001b[1;34m'DROP TABLE CLASSES'\u001b[0m\u001b[1;33m)\u001b[0m\u001b[1;33m\u001b[0m\u001b[1;33m\u001b[0m\u001b[0m\n\u001b[0m",
      "\u001b[1;31mOperationalError\u001b[0m: database table is locked"
     ]
    }
   ],
   "source": [
    "databse.execute('DROP TABLE CLASSES')"
   ]
  },
  {
   "cell_type": "code",
   "execution_count": 83,
   "metadata": {},
   "outputs": [
    {
     "data": {
      "text/plain": [
       "<sqlite3.Cursor at 0x1c6f1f3f0a0>"
      ]
     },
     "execution_count": 83,
     "metadata": {},
     "output_type": "execute_result"
    }
   ],
   "source": [
    "db = sqlite3.connect(\"data.db\")\n",
    "db.execute('''CREATE TABLE CLASSES\n",
    "         (CLASS_NAME           TEXT    NOT NULL,\n",
    "         NO_OF_OBJECTS            INT     NOT NULL);''')"
   ]
  },
  {
   "cell_type": "code",
   "execution_count": 103,
   "metadata": {},
   "outputs": [],
   "source": [
    "# Addding a new class\n",
    "def make_class(name):\n",
    "    path = \"./classes/{}\".format(name)\n",
    "    try:\n",
    "        os.mkdir(path)\n",
    "    except OSError:\n",
    "        print (\"Creation of the class %s failed\" % name)\n",
    "    else:\n",
    "        print (\"Successfully created the Class %s\" % name)\n",
    "        db.execute(\"INSERT INTO CLASSES (CLASS_NAME,NO_OF_OBJECTS) \\\n",
    "      VALUES (?, 0)\",(name,));\n",
    "\n",
    "def add_image(frame,CLASS_NAME):\n",
    "    cursor = db.execute(\"SELECT NO_OF_OBJECTS FROM CLASSES WHERE CLASS_NAME = ?\",(CLASS_NAME,))\n",
    "    for row in cursor:\n",
    "        objs = row[0]\n",
    "        print(objs)\n",
    "    objs =+ 1\n",
    "    db.execute(\"UPDATE CLASSES set NO_OF_OBJECTS = ? where CLASS_NAME = ?\",(objs,CLASS_NAME)) \n",
    "    db.commit()\n",
    "    img_name = \"{}_{}.png\".format(CLASS_NAME,objs)\n",
    "#     cv2.imwrite(img_name, frame)\n",
    "    print(img_name)\n"
   ]
  },
  {
   "cell_type": "code",
   "execution_count": 91,
   "metadata": {},
   "outputs": [
    {
     "name": "stdout",
     "output_type": "stream",
     "text": [
      "Successfully created the Class test\n"
     ]
    }
   ],
   "source": [
    "make_class(\"test\")"
   ]
  },
  {
   "cell_type": "code",
   "execution_count": 105,
   "metadata": {},
   "outputs": [
    {
     "name": "stdout",
     "output_type": "stream",
     "text": [
      "1\n",
      "test_1.png\n"
     ]
    }
   ],
   "source": [
    "add_image(0,'test')"
   ]
  },
  {
   "cell_type": "code",
   "execution_count": null,
   "metadata": {},
   "outputs": [],
   "source": []
  },
  {
   "cell_type": "code",
   "execution_count": null,
   "metadata": {},
   "outputs": [],
   "source": []
  }
 ],
 "metadata": {
  "kernelspec": {
   "display_name": "Python 3",
   "language": "python",
   "name": "python3"
  },
  "language_info": {
   "codemirror_mode": {
    "name": "ipython",
    "version": 3
   },
   "file_extension": ".py",
   "mimetype": "text/x-python",
   "name": "python",
   "nbconvert_exporter": "python",
   "pygments_lexer": "ipython3",
   "version": "3.7.3"
  }
 },
 "nbformat": 4,
 "nbformat_minor": 2
}
