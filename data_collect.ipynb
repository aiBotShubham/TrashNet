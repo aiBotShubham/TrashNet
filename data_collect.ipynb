{
 "cells": [
  {
   "cell_type": "code",
   "execution_count": 1,
   "metadata": {},
   "outputs": [
    {
     "name": "stdout",
     "output_type": "stream",
     "text": [
      "Importing Libs ...\n"
     ]
    },
    {
     "name": "stderr",
     "output_type": "stream",
     "text": [
      "Using TensorFlow backend.\n"
     ]
    }
   ],
   "source": [
    "#import libs\n",
    "print(\"Importing Libs ...\")\n",
    "import numpy as np\n",
    "import cv2\n",
    "import os\n",
    "import sqlite3\n",
    "import datetime\n",
    "from keras.models import load_model\n",
    "from keras.preprocessing import image\n",
    "from keras.preprocessing.image import ImageDataGenerator"
   ]
  },
  {
   "cell_type": "code",
   "execution_count": 2,
   "metadata": {},
   "outputs": [
    {
     "name": "stdout",
     "output_type": "stream",
     "text": [
      "Defining funtions ...\n"
     ]
    }
   ],
   "source": [
    "#defining functions\n",
    "print('Defining funtions ...')\n",
    "\n",
    "def sql_fetch(con):\n",
    "    cursorObj = con.cursor()\n",
    "    cursorObj.execute('SELECT * FROM CLASSES')\n",
    "    rows = cursorObj.fetchall()\n",
    "    for row in rows:\n",
    "        print(row)\n",
    "def images_fetch(con):\n",
    "    cursorObj = con.cursor()\n",
    "    cursorObj.execute('SELECT * FROM IMAGES')\n",
    "    rows = cursorObj.fetchall()\n",
    "    for row in rows:\n",
    "        print(row)       \n",
    "def make_class(name):\n",
    "    path = \"./classes/{}\".format(name)\n",
    "    try:\n",
    "        os.mkdir(path)\n",
    "    except OSError:\n",
    "        print (\"Creation of the class %s failed\" % name)\n",
    "    else:\n",
    "        print (\"Successfully created the Class %s\" % name)\n",
    "        db.execute(\"INSERT INTO CLASSES (CLASS_NAME,NO_OF_OBJECTS) \\\n",
    "      VALUES (?, 0)\",(name,));\n",
    "\n",
    "def add_image(frame,CLASS_NAME):\n",
    "    \n",
    "    cursor = db.execute(\"SELECT NO_OF_OBJECTS FROM CLASSES WHERE CLASS_NAME = ?\",(CLASS_NAME,))\n",
    "    for row in cursor:\n",
    "        objs = row[0]\n",
    "        print(objs)\n",
    "    objs +=1\n",
    "    db.execute(\"UPDATE CLASSES set NO_OF_OBJECTS = ? where CLASS_NAME = ?\",(objs,CLASS_NAME)) \n",
    "    db.commit()\n",
    "    img_name = \"{}_{}.png\".format(CLASS_NAME,objs)\n",
    "    cwd = os.getcwd()\n",
    "    path = os.path.join(cwd , 'classes\\{}'.format(CLASS_NAME))\n",
    "    print(os.path.join(path , img_name))\n",
    "    cv2.imwrite(os.path.join(path , img_name), frame)\n",
    "    \n",
    "    img_path = os.path.join(path , img_name)\n",
    "    addImage_to_db(img_name,CLASS_NAME,datetime.datetime.now())\n",
    "    \n",
    "def create_table_class():\n",
    "    db.execute('''CREATE TABLE CLASSES\n",
    "             (CLASS_NAME           TEXT    NOT NULL,\n",
    "             NO_OF_OBJECTS            INT     NOT NULL);''')   \n",
    "def drop_class(CLASS_NAME):\n",
    "    db.execute(\"DROP TABLE ?\",(CLASS_NAME,))    \n",
    "def create_table_images():\n",
    "    db.execute('''CREATE TABLE IMAGES\n",
    "             (NAME           TEXT    NOT NULL,\n",
    "              TAG           TEXT    NOT NULL,\n",
    "             TIME            timestamp);''')\n",
    "def addImage_to_db(name, CLASS_NAME, stamp):\n",
    "\n",
    "    cursor = db.cursor()\n",
    "    # insert image detail\n",
    "    sqlite_insert_with_param = \"\"\"INSERT INTO IMAGES\n",
    "                      ('NAME', 'TAG', 'TIME') \n",
    "                      VALUES (?, ?, ?);\"\"\"\n",
    "\n",
    "    data_tuple = (name, CLASS_NAME, stamp)\n",
    "    cursor.execute(sqlite_insert_with_param, data_tuple)\n",
    "    db.commit()\n",
    "    print(\"IMAGE added successfully \\n\")   \n"
   ]
  },
  {
   "cell_type": "code",
   "execution_count": 3,
   "metadata": {},
   "outputs": [
    {
     "name": "stdout",
     "output_type": "stream",
     "text": [
      "connecting with database...\n",
      "Database: \n",
      "('metal', 90)\n",
      "('plastic', 152)\n",
      "('cardboard', 51)\n",
      "('trash', 1)\n",
      "('paper', 75)\n",
      "('glass', 0)\n"
     ]
    }
   ],
   "source": [
    "# Connecting with database\n",
    "print('connecting with database...')\n",
    "db = sqlite3.connect(\"data.db\")\n",
    "print('Database: ')\n",
    "sql_fetch(db)"
   ]
  },
  {
   "cell_type": "code",
   "execution_count": 4,
   "metadata": {},
   "outputs": [],
   "source": [
    "# db.execute(\"DROP TABLE CLASSES\")"
   ]
  },
  {
   "cell_type": "code",
   "execution_count": 5,
   "metadata": {},
   "outputs": [],
   "source": [
    "# create_table_class()"
   ]
  },
  {
   "cell_type": "code",
   "execution_count": 6,
   "metadata": {},
   "outputs": [],
   "source": [
    "# # sql_fetch(db)\n",
    "# make_class('metal')\n",
    "# make_class('plastic')\n",
    "# make_class('cardboard')\n",
    "# make_class('trash')\n",
    "# make_class('paper')\n",
    "#make_class('glass')"
   ]
  },
  {
   "cell_type": "code",
   "execution_count": 7,
   "metadata": {},
   "outputs": [],
   "source": [
    "# # getting lables \n",
    "# train=ImageDataGenerator(horizontal_flip=True,\n",
    "#                          vertical_flip=True,\n",
    "#                          validation_split=0.1,\n",
    "#                          rescale=1./255,\n",
    "#                          shear_range = 0.1,\n",
    "#                          zoom_range = 0.1,\n",
    "#                          width_shift_range = 0.1,\n",
    "#                          height_shift_range = 0.1,)\n",
    "\n",
    "# test=ImageDataGenerator(rescale=1/255,\n",
    "#                         validation_split=0.1)\n",
    "\n",
    "# train_generator=train.flow_from_directory('dataset-resized',\n",
    "#                                           target_size=(384,512),\n",
    "#                                           batch_size=32,\n",
    "#                                           class_mode='categorical',\n",
    "#                                           subset='training')\n",
    "\n",
    "# test_generator=test.flow_from_directory('dataset-resized',\n",
    "#                                         target_size=(384,512),\n",
    "#                                         batch_size=32,\n",
    "#                                         class_mode='categorical',\n",
    "#                                         subset='validation')\n",
    "\n",
    "# labels = (train_generator.class_indices)\n",
    "# print(labels)\n",
    "# labels = dict((v,k) for k,v in labels.items())"
   ]
  },
  {
   "cell_type": "code",
   "execution_count": 8,
   "metadata": {},
   "outputs": [
    {
     "name": "stdout",
     "output_type": "stream",
     "text": [
      "Found 2041 images belonging to 5 classes.\n",
      "Found 225 images belonging to 5 classes.\n",
      "{0: 'cardboard', 1: 'metal', 2: 'paper', 3: 'plastic', 4: 'wrappers'}\n"
     ]
    }
   ],
   "source": [
    "train=ImageDataGenerator(horizontal_flip=True, vertical_flip=True,validation_split=0.1,rescale=1./255,\n",
    "                         shear_range = 0.1,zoom_range = 0.1,\n",
    "                         width_shift_range = 0.1,\n",
    "                         height_shift_range = 0.1,)\n",
    "test=ImageDataGenerator(rescale=1/255,validation_split=0.1)\n",
    "train_generator=train.flow_from_directory('dataset',target_size=(300,300),batch_size=32,\n",
    "                                          class_mode='categorical',subset='training')\n",
    "test_generator=test.flow_from_directory('dataset',target_size=(300,300),batch_size=32,\n",
    "                                        class_mode='categorical',subset='validation')\n",
    "labels = (train_generator.class_indices)\n",
    "labels = dict((v,k) for k,v in labels.items())\n",
    "\n",
    "print(labels)"
   ]
  },
  {
   "cell_type": "code",
   "execution_count": 9,
   "metadata": {},
   "outputs": [],
   "source": [
    "# create_table_images()"
   ]
  },
  {
   "cell_type": "code",
   "execution_count": 10,
   "metadata": {},
   "outputs": [],
   "source": [
    "# images_fetch(db)"
   ]
  },
  {
   "cell_type": "code",
   "execution_count": 11,
   "metadata": {},
   "outputs": [
    {
     "name": "stdout",
     "output_type": "stream",
     "text": [
      "loading models ...\n"
     ]
    }
   ],
   "source": [
    "#loading pre trained model\n",
    "print('loading models ...')\n",
    "model = load_model('trained_model.h5')"
   ]
  },
  {
   "cell_type": "code",
   "execution_count": 12,
   "metadata": {},
   "outputs": [
    {
     "name": "stdout",
     "output_type": "stream",
     "text": [
      "Found 2041 images belonging to 5 classes.\n",
      "Found 225 images belonging to 5 classes.\n",
      "{'cardboard': 0, 'metal': 1, 'paper': 2, 'plastic': 3, 'wrappers': 4}\n"
     ]
    }
   ],
   "source": [
    "# getting lables \n",
    "train=ImageDataGenerator(horizontal_flip=True,\n",
    "                         vertical_flip=True,\n",
    "                         validation_split=0.1,\n",
    "                         rescale=1./255,\n",
    "                         shear_range = 0.1,\n",
    "                         zoom_range = 0.1,\n",
    "                         width_shift_range = 0.1,\n",
    "                         height_shift_range = 0.1,)\n",
    "\n",
    "test=ImageDataGenerator(rescale=1/255,\n",
    "                        validation_split=0.1)\n",
    "\n",
    "train_generator=train.flow_from_directory('dataset',\n",
    "                                          target_size=(384,512),\n",
    "                                          batch_size=32,\n",
    "                                          class_mode='categorical',\n",
    "                                          subset='training')\n",
    "\n",
    "test_generator=test.flow_from_directory('dataset',\n",
    "                                        target_size=(384,512),\n",
    "                                        batch_size=32,\n",
    "                                        class_mode='categorical',\n",
    "                                        subset='validation')\n",
    "\n",
    "labels = (train_generator.class_indices)\n",
    "print(labels)\n",
    "labels = dict((v,k) for k,v in labels.items())"
   ]
  },
  {
   "cell_type": "code",
   "execution_count": 13,
   "metadata": {},
   "outputs": [],
   "source": [
    "# history = model.fit_generator(train_generator,\n",
    "#                               epochs=10,\n",
    "#                               steps_per_epoch=111//32,\n",
    "#                               validation_data=test_generator,\n",
    "#                               validation_steps=11//32,\n",
    "#                               workers = 4) "
   ]
  },
  {
   "cell_type": "code",
   "execution_count": 14,
   "metadata": {},
   "outputs": [],
   "source": [
    "# model.save('model2.h5')"
   ]
  },
  {
   "cell_type": "code",
   "execution_count": null,
   "metadata": {},
   "outputs": [],
   "source": []
  },
  {
   "cell_type": "code",
   "execution_count": null,
   "metadata": {},
   "outputs": [],
   "source": []
  },
  {
   "cell_type": "code",
   "execution_count": 15,
   "metadata": {
    "scrolled": true
   },
   "outputs": [
    {
     "name": "stdout",
     "output_type": "stream",
     "text": [
      "Classified: plastic\n",
      "[0.15099944 0.06860907 0.02335398 0.75703746]\n",
      "152\n",
      "C:\\Users\\Shubham Gandhi\\Documents\\Bin_data\\classes\\plastic\\plastic_153.png\n",
      "IMAGE added successfully \n",
      "\n",
      "Escape hit, closing...\n"
     ]
    }
   ],
   "source": [
    "cam = cv2.VideoCapture(0)\n",
    "\n",
    "cv2.namedWindow(\"test\")\n",
    "\n",
    "img_counter = 0\n",
    "def increase_brightness(img, value=30):\n",
    "    hsv = cv2.cvtColor(img, cv2.COLOR_BGR2HSV)\n",
    "    h, s, v = cv2.split(hsv)\n",
    "    lim = 255 - value\n",
    "    v[v > lim] = 255\n",
    "    v[v <= lim] += value\n",
    "    final_hsv = cv2.merge((h, s, v))\n",
    "    img = cv2.cvtColor(final_hsv, cv2.COLOR_HSV2BGR)\n",
    "    return img\n",
    "\n",
    "while True:\n",
    "    ret, frame = cam.read()\n",
    "    cv2.imshow(\"test\", frame)\n",
    "    if not ret:\n",
    "        break\n",
    "    k = cv2.waitKey(1)\n",
    "\n",
    "    if k%256 == 27:\n",
    "        # ESC pressed\n",
    "        print(\"Escape hit, closing...\")\n",
    "        break\n",
    "    elif k%256 == 32:\n",
    "        # SPACE pressed\n",
    "        frame = increase_brightness(frame, value=20)\n",
    "        img_name = \"img.png\"\n",
    "        cv2.imwrite(img_name, frame)\n",
    "        img_path = 'img.png'\n",
    "        img = image.load_img(img_path, target_size=(384, 512))\n",
    "        img = image.img_to_array(img, dtype=np.uint8)\n",
    "        img=np.array(img)/255.0\n",
    "        \n",
    "        p=model.predict(img[np.newaxis, ...])\n",
    "        predicted_class = labels[np.argmax(p[0], axis=-1)]\n",
    "        print(\"Classified:\",predicted_class)\n",
    "        print(p[0])\n",
    "        add_image(frame,predicted_class)\n",
    "#         print(\"{} written!\".format(img_name))\n",
    "        img_counter += 1\n",
    "           \n",
    "cam.release()\n",
    "\n",
    "cv2.destroyAllWindows()"
   ]
  },
  {
   "cell_type": "code",
   "execution_count": null,
   "metadata": {},
   "outputs": [],
   "source": []
  },
  {
   "cell_type": "code",
   "execution_count": null,
   "metadata": {},
   "outputs": [],
   "source": []
  }
 ],
 "metadata": {
  "kernelspec": {
   "display_name": "Python 3",
   "language": "python",
   "name": "python3"
  },
  "language_info": {
   "codemirror_mode": {
    "name": "ipython",
    "version": 3
   },
   "file_extension": ".py",
   "mimetype": "text/x-python",
   "name": "python",
   "nbconvert_exporter": "python",
   "pygments_lexer": "ipython3",
   "version": "3.7.3"
  }
 },
 "nbformat": 4,
 "nbformat_minor": 2
}
